{
 "cells": [
  {
   "cell_type": "markdown",
   "metadata": {},
   "source": [
    "# K-Means Clustering Algorithm\n",
    "\n",
    "K-Means is an unsupervised machine learning algorithm used for clustering data into groups or clusters based on similarity. It aims to partition the data points into K clusters, where each point belongs to the cluster with the nearest mean. The algorithm iteratively refines cluster assignments until convergence.\n",
    "\n",
    "## Mathematical Formulation\n",
    "\n",
    "Let's define the key components of the K-Means algorithm:\n",
    "\n",
    "- $K$: The number of clusters to create.\n",
    "- $X$: The dataset with $N$ data points, where each data point is $x_i$ in $d$-dimensional space, $x_i \\in \\mathbb{R}^d$.\n",
    "- $C$: The set of $K$ cluster centroids, denoted as $C = \\{c_1, c_2, \\ldots, c_K\\}$, where $c_k$ is the centroid of cluster $k$.\n",
    "- $R$: The cluster assignment vector, where $r_i$ represents the cluster assignment for data point $x_i$, such that $r_i \\in \\{1, 2, \\ldots, K\\}$.\n",
    "- $J$: The objective function, which is the sum of squared distances from each point to its assigned centroid:\n",
    "\n",
    "  $$J = \\sum_{i=1}^{N} \\sum_{k=1}^{K} \\left\\| x_i - c_k \\right\\|^2 \\cdot \\mathbb{I}(r_i = k)$$\n",
    "\n",
    "  Where $\\mathbb{I}(r_i = k)$ is an indicator function that equals 1 if $r_i = k$ and 0 otherwise.\n",
    "\n",
    "## K-Means Algorithm Steps\n",
    "\n",
    "The K-Means algorithm follows these iterative steps:\n",
    "\n",
    "1. **Initialization**: Initialize the cluster centroids $C$ either randomly or using the K-Means++ method.\n",
    "\n",
    "2. **Assignment Step**: Assign each data point $x_i$ to the nearest cluster centroid $c_k$ by computing the Euclidean distance:\n",
    "\n",
    "   $$r_i = \\arg\\min_k \\left\\| x_i - c_k \\right\\|^2$$\n",
    "\n",
    "3. **Update Step**: Recalculate the cluster centroids $c_k$ by taking the mean of all data points assigned to cluster $k$:\n",
    "\n",
    "   $$c_k = \\frac{1}{|S_k|} \\sum_{i \\in S_k} x_i$$\n",
    "\n",
    "   Where $S_k$ is the set of data points assigned to cluster $k$.\n",
    "\n",
    "4. **Convergence Check**: Repeat the assignment and update steps until convergence. Convergence can be determined by checking if the cluster assignments $r_i$ no longer change or if the objective function $J$ becomes stable.\n",
    "\n",
    "## K-Means++ Initialization\n",
    "\n",
    "K-Means++ is an improved initialization method that aims to distribute the initial cluster centroids more effectively. The steps for K-Means++ initialization are as follows:\n",
    "\n",
    "1. Select the first centroid $c_1$ uniformly at random from the dataset $X$.\n",
    "\n",
    "2. For each subsequent centroid $c_k$, choose the next data point $x_i$ as the centroid with a probability proportional to the squared distance from $x_i$ to the nearest existing centroid $c_j$. In other words, select $x_i$ with probability $\\frac{d(x_i, c_j)^2}{\\sum_{j} d(x_i, c_j)^2}$, where $d(x_i, c_j)$ is the Euclidean distance.\n",
    "\n",
    "3. Repeat step 2 until $K$ centroids are chosen.\n",
    "\n",
    "K-Means++ initialization often leads to faster convergence and better clustering results compared to purely random initialization.\n",
    "\n",
    "K-Means is widely used for clustering tasks and has applications in various fields, including image compression, customer segmentation, and data analysis.\n"
   ]
  },
  {
   "cell_type": "markdown",
   "metadata": {},
   "source": []
  }
 ],
 "metadata": {
  "language_info": {
   "name": "python"
  },
  "orig_nbformat": 4
 },
 "nbformat": 4,
 "nbformat_minor": 2
}
