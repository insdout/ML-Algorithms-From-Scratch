{
 "cells": [
  {
   "cell_type": "code",
   "execution_count": null,
   "metadata": {},
   "outputs": [],
   "source": []
  },
  {
   "attachments": {},
   "cell_type": "markdown",
   "metadata": {},
   "source": [
    "1. LR Assumptions.\n",
    "2. LR Definition.\n",
    "3. LR Direct Solution.\n",
    "4. LR Gradient Methods.\n",
    "5. LR Multicoliniarity.\n"
   ]
  },
  {
   "cell_type": "code",
   "execution_count": 30,
   "metadata": {},
   "outputs": [
    {
     "name": "stdout",
     "output_type": "stream",
     "text": [
      "(10, 3)\n",
      "dot: [2.61620824 2.88750661 2.08584275 1.69600797 2.476421   2.24949042\n",
      " 2.33495021 1.94684271 3.00428156 1.84802505]\n",
      "dot: [2.61620824 2.88750661 2.08584275 1.69600797 2.476421   2.24949042\n",
      " 2.33495021 1.94684271 3.00428156 1.84802505]\n",
      "(10, 4)\n"
     ]
    }
   ],
   "source": [
    "import numpy as np\n",
    "\n",
    "X = np.random.rand(10,3)\n",
    "print(X.shape)\n",
    "X_intercept = np.c_[np.ones((X.shape[0], 1)), X]\n",
    "theta = np.ones(X_intercept.shape[1])\n",
    "print(\"dot:\", X_intercept.dot(theta))\n",
    "print(\"dot:\", X_intercept @ theta)\n",
    "print(X_intercept.shape)"
   ]
  },
  {
   "attachments": {},
   "cell_type": "markdown",
   "metadata": {},
   "source": [
    "## Assumptions:\n",
    "**Linearity**: The relationship between X and the mean of Y is linear.  \n",
    "**Homoscedasticity**: The variance of residual is the same for any value of X.  \n",
    "**Independence**: Observations are independent of each other.  \n",
    "**Normality**: For any fixed value of X, Y is normally distributed.  "
   ]
  },
  {
   "attachments": {},
   "cell_type": "markdown",
   "metadata": {},
   "source": [
    "Linearity: The relationship between \n",
    " and \n",
    " must be linear.\n",
    "Check this assumption by examining a scatterplot of x and y.\n",
    "\n",
    "Independence of errors: There is not a relationship between the residuals and the \n",
    " variable; in other words, \n",
    " is independent of errors.\n",
    "Check this assumption by examining a scatterplot of “residuals versus fits”; the correlation should be approximately 0. In other words, there should not look like there is a relationship.\n",
    "\n",
    "Normality of errors: The residuals must be approximately normally distributed.\n",
    "Check this assumption by examining a normal probability plot; the observations should be near the line. You can also examine a histogram of the residuals; it should be approximately normally distributed.\n",
    "\n",
    "Equal variances: The variance of the residuals is the same for all values of \n",
    ".\n",
    "Check this assumption by examining the scatterplot of “residuals versus fits”; the variance of the residuals should be the same across all values of the x-axis. If the plot shows a pattern (e.g., bowtie or megaphone shape), then variances are not consistent, and this assumption has not been met."
   ]
  },
  {
   "attachments": {},
   "cell_type": "markdown",
   "metadata": {},
   "source": []
  },
  {
   "attachments": {},
   "cell_type": "markdown",
   "metadata": {},
   "source": [
    "## Multicollinearity:\n",
    "https://www.stat.cmu.edu/~larry/=stat401/lecture-17.pdf\n",
    "https://gregorygundersen.com/blog/2021/07/12/multicollinearity/\n",
    "https://stats.stackexchange.com/questions/479886/unexpected-relative-value-of-eigenvalues-of-a-top-a-and-a-top-a-1-in?noredirect=1&lq=1\n",
    "https://math.stackexchange.com/questions/1181271/if-ata-is-invertible-then-a-has-linearly-independent-column-vectors\n",
    "https://stats.stackexchange.com/questions/221902/what-is-an-example-of-perfect-multicollinearity\n",
    "https://mathformachines.com/posts/least-squares-with-the-mp-inverse/"
   ]
  },
  {
   "attachments": {},
   "cell_type": "markdown",
   "metadata": {},
   "source": [
    "a = [1, 2, 3]"
   ]
  },
  {
   "cell_type": "code",
   "execution_count": 9,
   "metadata": {},
   "outputs": [
    {
     "name": "stdout",
     "output_type": "stream",
     "text": [
      "0\n",
      "1.500000\n"
     ]
    }
   ],
   "source": [
    "a = [1, 1, 1]\n",
    "b = [2, 2, 2]\n",
    "\n",
    "print(sum(map(lambda x: x[0]>x[1], zip(a,b))))\n",
    "print(f\"{3/2 :.6f}\")"
   ]
  },
  {
   "cell_type": "code",
   "execution_count": 35,
   "metadata": {},
   "outputs": [
    {
     "data": {
      "text/html": [
       "<div>\n",
       "<style scoped>\n",
       "    .dataframe tbody tr th:only-of-type {\n",
       "        vertical-align: middle;\n",
       "    }\n",
       "\n",
       "    .dataframe tbody tr th {\n",
       "        vertical-align: top;\n",
       "    }\n",
       "\n",
       "    .dataframe thead th {\n",
       "        text-align: right;\n",
       "    }\n",
       "</style>\n",
       "<table border=\"1\" class=\"dataframe\">\n",
       "  <thead>\n",
       "    <tr style=\"text-align: right;\">\n",
       "      <th></th>\n",
       "      <th>1st</th>\n",
       "      <th>2nd</th>\n",
       "      <th>3rd</th>\n",
       "      <th>Crew</th>\n",
       "    </tr>\n",
       "  </thead>\n",
       "  <tbody>\n",
       "    <tr>\n",
       "      <th>survived</th>\n",
       "      <td>203</td>\n",
       "      <td>118</td>\n",
       "      <td>178</td>\n",
       "      <td>212</td>\n",
       "    </tr>\n",
       "    <tr>\n",
       "      <th>not survived</th>\n",
       "      <td>122</td>\n",
       "      <td>167</td>\n",
       "      <td>528</td>\n",
       "      <td>673</td>\n",
       "    </tr>\n",
       "  </tbody>\n",
       "</table>\n",
       "</div>"
      ],
      "text/plain": [
       "              1st  2nd  3rd  Crew\n",
       "survived      203  118  178   212\n",
       "not survived  122  167  528   673"
      ]
     },
     "execution_count": 35,
     "metadata": {},
     "output_type": "execute_result"
    }
   ],
   "source": [
    "import pandas as pd\n",
    "d = {\"1st\":[203, 122], \"2nd\":[118, 167], \"3rd\":[178, 528], \"Crew\":[212, 673]}\n",
    "df = pd.DataFrame(data=d, index=[\"survived\", \"not survived\"])\n",
    "df.head()"
   ]
  },
  {
   "cell_type": "code",
   "execution_count": 46,
   "metadata": {},
   "outputs": [
    {
     "name": "stdout",
     "output_type": "stream",
     "text": [
      "total: 2201 1st: 325 survived: 711 not survived: 1490\n",
      "P first class: 0.15\n",
      "P survived: 0.32\n",
      "P 1st class survived: 0.62\n",
      "0.26 0.26\n",
      "0.78 0.78\n",
      "0.45 0.45\n"
     ]
    }
   ],
   "source": [
    "total_psg = df.sum().sum()\n",
    "fst_class = df[\"1st\"].sum()\n",
    "survived = df.loc[\"survived\", :].sum()\n",
    "not_survived = df.loc[\"not survived\", :].sum()\n",
    "\n",
    "print(f\"total: {total_psg} 1st: {fst_class} survived: {survived} not survived: {not_survived}\")\n",
    "print(\"P first class:\", round(fst_class/total_psg, 2))\n",
    "print(\"P survived:\", round(survived/total_psg, 2))\n",
    "print(\"P 1st class survived:\", round(df.loc[\"survived\", \"1st\"]/fst_class, 2))\n",
    "print(round((3/5 +1/6)/3,2), round(23/90, 2))\n",
    "print(round((3/5)*(1/3)/(23/90),2), round(18/23, 2))\n",
    "print(round((1/3)/(67/90),2), round(30/67, 2))"
   ]
  },
  {
   "cell_type": "code",
   "execution_count": null,
   "metadata": {},
   "outputs": [],
   "source": []
  },
  {
   "cell_type": "code",
   "execution_count": 34,
   "metadata": {},
   "outputs": [
    {
     "name": "stdout",
     "output_type": "stream",
     "text": [
      "i: 0 number: 1 reminder: {1: {0}}\n",
      "i: 1 number: 3 reminder: {1: {0}, 0: {1}}\n",
      "i: 2 number: 2 reminder: {1: {0}, 0: {1}, 2: {2}}\n",
      "i: 3 number: 6 reminder: {1: {0}, 0: {1, 3}, 2: {2}}\n",
      "i: 4 number: 1 reminder: {1: {0, 4}, 0: {1, 3}, 2: {2}}\n",
      "i: 5 number: 2 reminder: {1: {0, 4}, 0: {1, 3}, 2: {2, 5}}\n",
      "(0,2), (0,5)\n",
      "(1,3)\n",
      "(2,4)\n",
      "\n",
      "(4,5)\n"
     ]
    },
    {
     "data": {
      "text/plain": [
       "5"
      ]
     },
     "execution_count": 34,
     "metadata": {},
     "output_type": "execute_result"
    }
   ],
   "source": [
    "def divisibleSumPairs(n, k, ar):\n",
    "    reminder = dict()\n",
    "    for i, number in enumerate(ar):\n",
    "        reminder.setdefault(number%k, set()).update([i])\n",
    "        print(f\"i: {i} number: {number} reminder: {reminder}\")\n",
    "    pairs_count = 0\n",
    "    for i in range(n-1):\n",
    "        rem_i = ar[i]%k\n",
    "        pairs = reminder.get((k-rem_i)%k)\n",
    "        #print(f\"i: {i} pairs: {pairs}\")\n",
    "        if pairs:\n",
    "            subset = pairs-set(list(range(i+1)))\n",
    "            print(\", \".join([f\"({i},{p})\" for p in subset]))\n",
    "            pairs_count += len(subset)\n",
    "    return pairs_count\n",
    "\n",
    "n = 6\n",
    "k = 3\n",
    "ar = [1, 3, 2, 6, 1, 2]\n",
    "divisibleSumPairs(n, k, ar)"
   ]
  },
  {
   "cell_type": "code",
   "execution_count": 14,
   "metadata": {},
   "outputs": [
    {
     "name": "stdout",
     "output_type": "stream",
     "text": [
      "out of while\n",
      "inside while\n",
      "out of while\n",
      "out of while\n",
      "inside while\n",
      "out of while\n",
      "out of while\n",
      "inside while\n",
      "inside while\n",
      "out of while\n",
      "inside while\n",
      "out of while\n",
      "inside while\n",
      "inside while\n",
      "out of while\n",
      "inside while\n",
      "out of while\n",
      "inside while\n",
      "out of while\n",
      "inside while\n",
      "out of while\n",
      "out of while\n",
      "inside while\n",
      "out of while\n",
      "inside while\n",
      "out of while\n",
      "inside while\n",
      "out of while\n",
      "out of while\n",
      "inside while\n",
      "out of while\n",
      "inside while\n",
      "out of while\n",
      "inside while\n",
      "inside while\n",
      "out of while\n",
      "out of while\n",
      "inside while\n",
      "inside while\n",
      "out of while\n",
      "inside while\n",
      "out of while\n",
      "inside while\n",
      "inside while\n",
      "out of while\n",
      "out of while\n",
      "inside while\n",
      "inside while\n",
      "out of while\n",
      "inside while\n",
      "inside while\n",
      "out of while\n",
      "inside while\n",
      "inside while\n",
      "out of while\n",
      "inside while\n",
      "out of while\n",
      "inside while\n",
      "inside while\n",
      "out of while\n",
      "inside while\n",
      "inside while\n",
      "out of while\n",
      "inside while\n",
      "inside while\n",
      "out of while\n",
      "inside while\n",
      "out of while\n",
      "inside while\n",
      "inside while\n",
      "out of while\n",
      "inside while\n",
      "inside while\n",
      "out of while\n",
      "inside while\n",
      "out of while\n",
      "inside while\n",
      "out of while\n",
      "inside while\n",
      "out of while\n",
      "inside while\n",
      "out of while\n",
      "inside while\n",
      "out of while\n",
      "inside while\n",
      "inside while\n",
      "out of while\n",
      "inside while\n",
      "out of while\n",
      "inside while\n",
      "out of while\n",
      "inside while\n",
      "out of while\n",
      "inside while\n",
      "out of while\n",
      "inside while\n",
      "out of while\n",
      "inside while\n",
      "out of while\n",
      "inside while\n",
      "out of while\n",
      "inside while\n",
      "out of while\n",
      "inside while\n",
      "out of while\n"
     ]
    }
   ],
   "source": [
    "def introTutorial(V, arr):\n",
    "    # Write your code here\n",
    "    n = len(arr)\n",
    "    if n == 0:\n",
    "        return 0\n",
    "    left = 0\n",
    "    right = n - 1\n",
    "    iter = 0\n",
    "    while (iter< 100) and (left != right):\n",
    "        iter += 1\n",
    "        ind = left + (right-left)//2\n",
    "        if arr[ind] == V:\n",
    "            return ind\n",
    "        elif arr[ind] > V:\n",
    "            right = ind-1\n",
    "        else:\n",
    "            left = ind+1\n",
    "    return left\n",
    "\n",
    "s = [1, 5, 51, 53, 2, 123, 223, 345, 5432, 111]\n",
    "for n in range(15):\n",
    "    for j in range(n):\n",
    "        s = list(range(n))\n",
    "        v = s[j]\n",
    "        res = introTutorial(v, s)\n",
    "        assert j == res, f\"fail. j:{j} ans: {res}\""
   ]
  },
  {
   "cell_type": "code",
   "execution_count": null,
   "metadata": {},
   "outputs": [],
   "source": []
  }
 ],
 "metadata": {
  "kernelspec": {
   "display_name": "ml_dl",
   "language": "python",
   "name": "python3"
  },
  "language_info": {
   "codemirror_mode": {
    "name": "ipython",
    "version": 3
   },
   "file_extension": ".py",
   "mimetype": "text/x-python",
   "name": "python",
   "nbconvert_exporter": "python",
   "pygments_lexer": "ipython3",
   "version": "3.8.16"
  },
  "orig_nbformat": 4
 },
 "nbformat": 4,
 "nbformat_minor": 2
}
