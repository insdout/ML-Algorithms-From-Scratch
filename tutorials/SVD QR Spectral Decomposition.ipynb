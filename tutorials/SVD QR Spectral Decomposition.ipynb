{
 "cells": [
  {
   "cell_type": "code",
   "execution_count": 76,
   "metadata": {},
   "outputs": [
    {
     "name": "stdout",
     "output_type": "stream",
     "text": [
      "X shape: (400, 1)\n",
      "X_b shape: (400, 2)\n"
     ]
    }
   ],
   "source": [
    "from sklearn.datasets import make_regression\n",
    "import numpy as np\n",
    "\n",
    "X, y = make_regression(n_samples=400, n_features=1, noise=5, random_state=42)\n",
    "print(f\"X shape: {X.shape}\")\n",
    "X_b = np.c_[np.ones((y.shape[0], 1)), X]\n",
    "y = np.expand_dims(y, axis=1)\n",
    "print(f\"X_b shape: {X_b.shape}\")"
   ]
  },
  {
   "cell_type": "code",
   "execution_count": 53,
   "metadata": {},
   "outputs": [],
   "source": [
    "def loss_fn(X_b, y, theta):\n",
    "    return 1/y.shape[0]*np.sum((X_b.dot(theta) - y)**2)\n",
    "def loss_derrivative_fn(X_b, y, theta):\n",
    "    return 2/y.shape[0] *np.sum(X_b.T.dot(X_b.dot(theta) - y))"
   ]
  },
  {
   "cell_type": "code",
   "execution_count": 81,
   "metadata": {},
   "outputs": [],
   "source": [
    "theta =  np.random.randn(2,1)\n",
    "n_iterations = 10\n",
    "eta = 1e-1\n",
    "history = dict()\n",
    "for iteration in range(n_iterations):\n",
    "    history.setdefault(\"theta\", []).append(theta)\n",
    "    history.setdefault(\"loss\", []).append(loss_fn(X_b, y, theta))\n",
    "    history.setdefault(\"loss_derrivative\", []).append(loss_derrivative_fn(X_b, y, theta))\n",
    "    gradients = 2/y.shape[0] *np.sum(X_b.T.dot(X_b.dot(theta) - y))\n",
    "    theta = theta - eta * gradients\n"
   ]
  },
  {
   "cell_type": "code",
   "execution_count": 75,
   "metadata": {},
   "outputs": [
    {
     "name": "stdout",
     "output_type": "stream",
     "text": [
      "(400, 1)\n",
      "(400, 1)\n",
      "(400, 1)\n"
     ]
    }
   ],
   "source": [
    "print(X_b.dot(theta).shape)\n",
    "print(np.expand_dims(y, axis=1).shape)\n",
    "mse = (X_b.dot(theta) - np.expand_dims(y, axis=1))**2\n",
    "print(mse.shape)"
   ]
  },
  {
   "cell_type": "code",
   "execution_count": 82,
   "metadata": {},
   "outputs": [
    {
     "data": {
      "text/plain": [
       "[1467.247603681268,\n",
       " 1057.0271265825172,\n",
       " 905.9301123488004,\n",
       " 850.2763627558754,\n",
       " 829.7773485333905,\n",
       " 822.2269213444367,\n",
       " 819.4458631863738,\n",
       " 818.4215126052776,\n",
       " 818.0442122924634,\n",
       " 817.9052408029391]"
      ]
     },
     "execution_count": 82,
     "metadata": {},
     "output_type": "execute_result"
    }
   ],
   "source": [
    "history[\"loss\"]"
   ]
  },
  {
   "cell_type": "code",
   "execution_count": 83,
   "metadata": {},
   "outputs": [
    {
     "data": {
      "text/plain": [
       "[-71.45437695688267,\n",
       " -43.36587466921092,\n",
       " -26.318878785557214,\n",
       " -15.973006097825788,\n",
       " -9.694065080811438,\n",
       " -5.883357034703649,\n",
       " -3.570626946409989,\n",
       " -2.1670241522357903,\n",
       " -1.3151734266427366,\n",
       " -0.7981826784730538]"
      ]
     },
     "execution_count": 83,
     "metadata": {},
     "output_type": "execute_result"
    }
   ],
   "source": [
    "history[\"loss_derrivative\"]"
   ]
  },
  {
   "cell_type": "code",
   "execution_count": 84,
   "metadata": {},
   "outputs": [
    {
     "data": {
      "text/plain": [
       "<matplotlib.collections.PathCollection at 0x7f00b769d940>"
      ]
     },
     "execution_count": 84,
     "metadata": {},
     "output_type": "execute_result"
    },
    {
     "data": {
      "image/png": "[encoded data removed]",
      "text/plain": [
       "<Figure size 640x480 with 1 Axes>"
      ]
     },
     "metadata": {},
     "output_type": "display_data"
    }
   ],
   "source": [
    "import matplotlib.pyplot as plt\n",
    "\n",
    "plt.scatter(X[:, 0], y)\n"
   ]
  },
  {
   "cell_type": "code",
   "execution_count": null,
   "metadata": {},
   "outputs": [],
   "source": []
  }
 ],
 "metadata": {
  "kernelspec": {
   "display_name": "ml_dl",
   "language": "python",
   "name": "python3"
  },
  "language_info": {
   "codemirror_mode": {
    "name": "ipython",
    "version": 3
   },
   "file_extension": ".py",
   "mimetype": "text/x-python",
   "name": "python",
   "nbconvert_exporter": "python",
   "pygments_lexer": "ipython3",
   "version": "3.8.16"
  },
  "orig_nbformat": 4
 },
 "nbformat": 4,
 "nbformat_minor": 2
}
